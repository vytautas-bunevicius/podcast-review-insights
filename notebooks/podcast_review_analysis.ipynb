{
 "cells": [
  {
   "cell_type": "markdown",
   "metadata": {},
   "source": [
    "# Podcast Reviews Analysis\n",
    "\n",
    "## Project Overview\n",
    "\n",
    "The goal of this project is to perform an exploratory data analysis (EDA) on a dataset of podcast reviews. The dataset includes 2 million reviews for 100,000 podcasts. The data is stored in a SQLite database with four tables: `categories`, `podcasts`, `reviews`, and `runs`. \n",
    "\n",
    "## Data Loading and Preprocessing\n",
    "\n",
    "We will use SQLite and Pandas to load the data and perform initial data cleaning and manipulation. This will include handling missing values, converting data types if necessary, and creating any new variables that might be useful for our analysis.\n",
    "\n",
    "### EDA Questions\n",
    "\n",
    "1. **Podcast Popularity and Ratings**\n",
    "   - Which podcasts have the highest number of reviews?\n",
    "   - How does the number of reviews correlate with the average rating of a podcast?\n",
    "   - Is there a correlation between the length of a review and the rating it gives?\n",
    "\n",
    "2. **Review Analysis**\n",
    "   - What is the distribution of ratings across all reviews? Are there more positive or negative reviews?\n",
    "   - Can we identify common sentiments in the review content? Are there certain words or phrases that appear more frequently in positive or negative reviews?\n",
    "\n",
    "3. **Category Analysis**\n",
    "   - What are the most common categories for podcasts? Are there certain categories that have more podcasts than others?\n",
    "   - How does the distribution of ratings vary across the top 10 categories?\n",
    "\n",
    "4. **Trends Over Time**\n",
    "   - How have the number of reviews and average ratings changed over time?\n",
    "   - Are there certain times of the year when more reviews are written or when ratings are particularly high or low?\n",
    "\n",
    "5. **Author Analysis**\n",
    "   - Are there authors who review more frequently than others? Do they tend to review certain types of podcasts or give certain types of ratings?\n",
    "\n",
    "### Hypotheses\n",
    "\n",
    "a. **Null Hypothesis (H0)**: There is no correlation between the length of a review and the rating it gives.\n",
    "\n",
    "b. **Alternative Hypothesis (H1)**: There is a correlation between the length of a review and the rating it gives.\n",
    "\n",
    "## Dashboard Creation\n",
    "\n",
    "We will present our results in a dashboard created with a Looker. The dashboard will include at least three different types of charts and will be designed to clearly and effectively communicate our findings.\n",
    "\n",
    "## Conclusion and Recommendations\n",
    "\n",
    "We will conclude with a summary of our findings and any recommendations for further analysis or actions based on our results."
   ]
  },
  {
   "cell_type": "code",
   "execution_count": 14,
   "metadata": {},
   "outputs": [
    {
     "name": "stdout",
     "output_type": "stream",
     "text": [
      "The autoreload extension is already loaded. To reload it, use:\n",
      "  %reload_ext autoreload\n"
     ]
    }
   ],
   "source": [
    "%load_ext autoreload\n",
    "%autoreload 2"
   ]
  },
  {
   "cell_type": "code",
   "execution_count": 2,
   "metadata": {},
   "outputs": [],
   "source": [
    "import sqlite3 as sql\n",
    "from pathlib import Path\n",
    "\n",
    "import kaggle\n",
    "import pandas as pd\n",
    "from statsmodels import stats\n",
    "\n",
    "from podcast_review_insights.utils.podcast_utilities import (\n",
    "    add_length_column,\n",
    "    analyze_dataframe,\n",
    "    convert_arabic_numerals_to_english,\n",
    "    create_bar_chart,\n",
    "    load_data_from_sql,\n",
    "    parallel_process,\n",
    "    perform_sentiment_and_frequency_analysis,\n",
    "    plot_histogram,\n",
    "    plot_monthly_reviews_and_ratings,\n",
    "    remove_punctuation,\n",
    "    remove_stopwords,\n",
    "    save_dataframe_to_sql,\n",
    "    to_lowercase,\n",
    ")"
   ]
  },
  {
   "cell_type": "markdown",
   "metadata": {},
   "source": [
    "## Data Loading and Preprocessing"
   ]
  },
  {
   "cell_type": "code",
   "execution_count": 3,
   "metadata": {},
   "outputs": [
    {
     "name": "stdout",
     "output_type": "stream",
     "text": [
      "Files already exist in data directory\n"
     ]
    }
   ],
   "source": [
    "try:\n",
    "    root_dir = Path.cwd().parent\n",
    "\n",
    "    data_dir = root_dir / \"data\"\n",
    "    data_dir.mkdir(exist_ok=True)\n",
    "\n",
    "    required_files = [\n",
    "        \"categories.json\",\n",
    "        \"database.sqlite\",\n",
    "        \"podcasts.json\",\n",
    "        \"reviews.json\",\n",
    "    ]\n",
    "    files_exist = all((data_dir / file).exists() for file in required_files)\n",
    "\n",
    "    if not files_exist:\n",
    "        print(\"Downloading dataset files...\")\n",
    "        kaggle.api.dataset_download_files(\n",
    "            \"thoughtvector/podcastreviews\", path=str(data_dir), unzip=True\n",
    "        )\n",
    "        print(\"Download complete!\")\n",
    "    else:\n",
    "        print(\"Files already exist in data directory\")\n",
    "\n",
    "except Exception as e:\n",
    "    print(f\"Error: {str(e)}\")"
   ]
  },
  {
   "cell_type": "code",
   "execution_count": 4,
   "metadata": {},
   "outputs": [],
   "source": [
    "db_path = Path.cwd().parent / \"data\" / \"database.sqlite\"\n",
    "conn = sql.connect(db_path)\n",
    "\n",
    "categories_df = load_data_from_sql(\"categories\", conn)\n",
    "podcasts_df = load_data_from_sql(\"podcasts\", conn)\n",
    "runs_df = load_data_from_sql(\"runs\", conn)\n",
    "reviews_df = load_data_from_sql(\"reviews\", conn)"
   ]
  },
  {
   "cell_type": "code",
   "execution_count": 5,
   "metadata": {},
   "outputs": [],
   "source": [
    "reviews_df[\"created_at\"] = pd.to_datetime(\n",
    "    reviews_df[\"created_at\"].apply(convert_arabic_numerals_to_english)\n",
    ")\n",
    "runs_df[\"run_at\"] = pd.to_datetime(\n",
    "    runs_df[\"run_at\"].apply(convert_arabic_numerals_to_english)\n",
    ")"
   ]
  },
  {
   "cell_type": "markdown",
   "metadata": {},
   "source": [
    "### Categories DataFrame"
   ]
  },
  {
   "cell_type": "code",
   "execution_count": 6,
   "metadata": {},
   "outputs": [
    {
     "name": "stdout",
     "output_type": "stream",
     "text": [
      "Categories table:\n",
      "\n",
      "Columns: ['podcast_id', 'category']\n",
      "\n",
      "Summary statistics:\n",
      "                              podcast_id         category\n",
      "count                             212372           212372\n",
      "unique                            110024              110\n",
      "top     fa8c359031380cd4f3b38358c8a75f92  society-culture\n",
      "freq                                   8            18710\n",
      "\n",
      "Number of duplicates: 0\n",
      "\n",
      "Number of missing values:\n",
      "podcast_id    0\n",
      "category      0\n",
      "dtype: int64\n",
      "\n",
      "First few rows:\n",
      "                         podcast_id              category\n",
      "0  c61aa81c9b929a66f0c1db6cbe5d8548                  arts\n",
      "1  c61aa81c9b929a66f0c1db6cbe5d8548  arts-performing-arts\n",
      "2  c61aa81c9b929a66f0c1db6cbe5d8548                 music\n",
      "3  ad4f2bf69c72b8db75978423c25f379e                  arts\n",
      "4  ad4f2bf69c72b8db75978423c25f379e           arts-design\n",
      "\n"
     ]
    }
   ],
   "source": [
    "analyze_dataframe(categories_df, \"Categories\")"
   ]
  },
  {
   "cell_type": "markdown",
   "metadata": {},
   "source": [
    "- The table contains **212,372** rows and **2** columns: 'podcast_id' and 'category'.\n",
    "- There are **110,024** unique podcasts and **110** unique categories.\n",
    "- The most common category is 'society-culture', appearing **18,710** times.\n",
    "- The podcast with ID 'fa8c359031380cd4f3b38358c8a75f92' appears most frequently, with **8** entries.\n",
    "- There are **no** missing values or duplicate rows in the data."
   ]
  },
  {
   "cell_type": "markdown",
   "metadata": {},
   "source": [
    "### Podcasts DataFrame"
   ]
  },
  {
   "cell_type": "code",
   "execution_count": 7,
   "metadata": {},
   "outputs": [
    {
     "name": "stdout",
     "output_type": "stream",
     "text": [
      "Podcasts table:\n",
      "\n",
      "Columns: ['podcast_id', 'itunes_id', 'slug', 'itunes_url', 'title']\n",
      "\n",
      "Summary statistics:\n",
      "          itunes_id\n",
      "count  1.100240e+05\n",
      "mean   1.309424e+09\n",
      "std    3.575526e+08\n",
      "min    7.332927e+07\n",
      "25%    1.227235e+09\n",
      "50%    1.467889e+09\n",
      "75%    1.528936e+09\n",
      "max    1.665764e+09\n",
      "\n",
      "Number of duplicates: 0\n",
      "\n",
      "Number of missing values:\n",
      "podcast_id    0\n",
      "itunes_id     0\n",
      "slug          0\n",
      "itunes_url    0\n",
      "title         0\n",
      "dtype: int64\n",
      "\n",
      "First few rows:\n",
      "                         podcast_id   itunes_id  \\\n",
      "0  a00018b54eb342567c94dacfb2a3e504  1313466221   \n",
      "1  a00043d34e734b09246d17dc5d56f63c   158973461   \n",
      "2  a0004b1ef445af9dc84dad1e7821b1e3   139076942   \n",
      "3  a00071f9aaae9ac725c3a586701abf4d  1332508972   \n",
      "4  a000a500f06555f81220c3eb641aded7  1544900779   \n",
      "\n",
      "                                    slug  \\\n",
      "0                         scaling-global   \n",
      "1  cornerstone-baptist-church-of-orlando   \n",
      "2            mystery-dancing-in-the-dark   \n",
      "3                      kts-money-matters   \n",
      "4       word-on-the-street-w-dreak-swift   \n",
      "\n",
      "                                          itunes_url  \\\n",
      "0  https://podcasts.apple.com/us/podcast/scaling-...   \n",
      "1  https://podcasts.apple.com/us/podcast/cornerst...   \n",
      "2  https://podcasts.apple.com/us/podcast/mystery-...   \n",
      "3  https://podcasts.apple.com/us/podcast/kts-mone...   \n",
      "4  https://podcasts.apple.com/us/podcast/word-on-...   \n",
      "\n",
      "                                   title  \n",
      "0                         Scaling Global  \n",
      "1  Cornerstone Baptist Church of Orlando  \n",
      "2           Mystery: Dancing in the Dark  \n",
      "3                      KTs Money Matters  \n",
      "4      Word on the Street w/ Dreak Swift  \n",
      "\n"
     ]
    }
   ],
   "source": [
    "analyze_dataframe(podcasts_df, \"Podcasts\")"
   ]
  },
  {
   "cell_type": "markdown",
   "metadata": {},
   "source": [
    "- The table contains **110,024** rows and **5** columns: 'podcast_id', 'itunes_id', 'slug', 'itunes_url', and 'title'.\n",
    "- There are **no** missing values or duplicate rows in the data."
   ]
  },
  {
   "cell_type": "code",
   "execution_count": 8,
   "metadata": {},
   "outputs": [],
   "source": [
    "podcasts_df = parallel_process(podcasts_df, n_processes=8)\n",
    "\n",
    "podcasts_df = to_lowercase(podcasts_df, [\"title\"])\n",
    "podcasts_df = remove_punctuation(podcasts_df, [\"title\"])\n",
    "podcasts_df = remove_stopwords(podcasts_df, [\"title\"])\n",
    "\n",
    "save_dataframe_to_sql(podcasts_df, conn, \"podcasts_cleaned\")\n",
    "podcasts_cleaned_df = load_data_from_sql(\"podcasts_cleaned\", conn)"
   ]
  },
  {
   "cell_type": "markdown",
   "metadata": {},
   "source": [
    "1. **remove_non_english**: Removed rows from `podcasts_df` where the \"title\" column contained non-English content.\n",
    "2. **to_lowercase**: Converted text in the \"title\" column of `podcasts_df` to lowercase.\n",
    "3. **remove_punctuation**: Removed punctuation from the \"title\" column in `podcasts_df`.\n",
    "4. **remove_stopwords**: Removed stopwords from the \"title\" column in `podcasts_df`."
   ]
  },
  {
   "cell_type": "markdown",
   "metadata": {},
   "source": [
    "### Runs DataFrame"
   ]
  },
  {
   "cell_type": "code",
   "execution_count": 9,
   "metadata": {},
   "outputs": [
    {
     "name": "stdout",
     "output_type": "stream",
     "text": [
      "Runs table:\n",
      "\n",
      "Columns: ['run_at', 'max_rowid', 'reviews_added']\n",
      "\n",
      "Summary statistics:\n",
      "                              run_at     max_rowid  reviews_added\n",
      "count                             16  1.600000e+01   1.600000e+01\n",
      "mean   2022-04-01 18:28:13.437499904  4.368318e+06   1.292206e+05\n",
      "min              2021-05-10 02:53:00  3.266481e+06   0.000000e+00\n",
      "25%              2021-08-25 17:59:03  3.382702e+06   1.281800e+04\n",
      "50%              2022-06-14 05:59:54  4.167376e+06   1.908900e+04\n",
      "75%    2022-09-13 17:05:22.249999872  5.330927e+06   3.799075e+04\n",
      "max              2023-02-18 02:11:53  5.599789e+06   1.215223e+06\n",
      "std                              NaN  9.678974e+05   3.194665e+05\n",
      "\n",
      "Number of duplicates: 0\n",
      "\n",
      "Number of missing values:\n",
      "run_at           0\n",
      "max_rowid        0\n",
      "reviews_added    0\n",
      "dtype: int64\n",
      "\n",
      "First few rows:\n",
      "               run_at  max_rowid  reviews_added\n",
      "0 2021-05-10 02:53:00    3266481        1215223\n",
      "1 2021-06-06 21:34:36    3300773          13139\n",
      "2 2021-07-02 18:04:55    3329699          11561\n",
      "3 2021-08-01 17:54:42    3360315          11855\n",
      "4 2021-09-02 18:00:30    3390165          11714\n",
      "\n"
     ]
    }
   ],
   "source": [
    "analyze_dataframe(runs_df, \"Runs\")"
   ]
  },
  {
   "cell_type": "markdown",
   "metadata": {},
   "source": [
    "- The table contains **16** rows and **3** columns: 'run_at', 'max_rowid', and 'reviews_added'.\n",
    "- The 'max_rowid' column has a mean value of approximately **4,368,318**, with a standard deviation of **967,897**.\n",
    "- The minimum 'max_rowid' is **3,266,481** and the maximum is **5,599,789**.\n",
    "- The 'reviews_added' column has a mean value of approximately **129,220**, with a standard deviation of **319,466**.\n",
    "- There are **no** missing values or duplicate rows in the data."
   ]
  },
  {
   "cell_type": "markdown",
   "metadata": {},
   "source": [
    "### Reviews DataFrame"
   ]
  },
  {
   "cell_type": "code",
   "execution_count": 10,
   "metadata": {},
   "outputs": [
    {
     "name": "stdout",
     "output_type": "stream",
     "text": [
      "Reviews table:\n",
      "\n",
      "Columns: ['podcast_id', 'title', 'content', 'rating', 'author_id', 'created_at']\n",
      "\n",
      "Summary statistics:\n",
      "             rating\n",
      "count  2.067529e+06\n",
      "mean   4.627081e+00\n",
      "std    1.045882e+00\n",
      "min    1.000000e+00\n",
      "25%    5.000000e+00\n",
      "50%    5.000000e+00\n",
      "75%    5.000000e+00\n",
      "max    5.000000e+00\n",
      "\n",
      "Number of duplicates: 655\n",
      "\n",
      "Number of missing values:\n",
      "podcast_id    0\n",
      "title         0\n",
      "content       0\n",
      "rating        0\n",
      "author_id     0\n",
      "created_at    0\n",
      "dtype: int64\n",
      "\n",
      "First few rows:\n",
      "                         podcast_id  \\\n",
      "0  c61aa81c9b929a66f0c1db6cbe5d8548   \n",
      "1  c61aa81c9b929a66f0c1db6cbe5d8548   \n",
      "2  ad4f2bf69c72b8db75978423c25f379e   \n",
      "3  ad4f2bf69c72b8db75978423c25f379e   \n",
      "4  ad4f2bf69c72b8db75978423c25f379e   \n",
      "\n",
      "                                              title  \\\n",
      "0                               really interesting!   \n",
      "1  Must listen for anyone interested in the arts!!!   \n",
      "2                                 nauseatingly left   \n",
      "3                                   Diverse stories   \n",
      "4                                              👍👍👍👍   \n",
      "\n",
      "                                             content  rating        author_id  \\\n",
      "0  Thanks for providing these insights.  Really e...       5  F7E5A318989779D   \n",
      "1  Super excited to see this podcast grow. So man...       5  F6BF5472689BD12   \n",
      "2  I'm a liberal myself, but its pretty obvious a...       1  1AB95B8E6E1309E   \n",
      "3  I find Tedx talks very inspirational but I oft...       5  11BB760AA5DEBD1   \n",
      "4                I love this podcast, it is so good.       5  D86032C8E57D15A   \n",
      "\n",
      "                 created_at  \n",
      "0 2018-04-24 12:05:16-07:00  \n",
      "1 2018-05-09 18:14:32-07:00  \n",
      "2 2019-06-11 14:53:39-07:00  \n",
      "3 2018-05-31 13:08:09-07:00  \n",
      "4 2019-06-19 13:56:05-07:00  \n",
      "\n"
     ]
    }
   ],
   "source": [
    "analyze_dataframe(reviews_df, \"Reviews\")"
   ]
  },
  {
   "cell_type": "markdown",
   "metadata": {},
   "source": [
    "- The table contains **2,067,529** rows and **6** columns: 'podcast_id', 'title', 'content', 'rating', 'author_id', and 'created_at'.\n",
    "- The 'rating' column has a mean value of approximately **4.63**, with a standard deviation of **1.05**.\n",
    "- The minimum 'rating' is **1** and the maximum is **5**.\n",
    "- There are **655** duplicate rows in the data.\n",
    "- There are **no** missing values in the data. "
   ]
  },
  {
   "cell_type": "code",
   "execution_count": 11,
   "metadata": {},
   "outputs": [],
   "source": [
    "reviews_df = parallel_process(reviews_df, n_processes=8)\n",
    "\n",
    "reviews_df = to_lowercase(reviews_df, [\"title\", \"content\"])\n",
    "reviews_df = remove_punctuation(reviews_df, [\"title\", \"content\"])\n",
    "reviews_df = remove_stopwords(reviews_df, [\"title\", \"content\"])\n",
    "reviews_df = add_length_column(reviews_df, \"content\", \"content_length\")\n",
    "\n",
    "save_dataframe_to_sql(reviews_df, conn, \"reviews_cleaned\")\n",
    "reviews_cleaned_df = load_data_from_sql(\"reviews_cleaned\", conn)"
   ]
  },
  {
   "cell_type": "markdown",
   "metadata": {},
   "source": [
    "1. **remove_non_english**: Removed rows from `reviews_df` where the \"title\" and \"content\" columns contained non-English content.\n",
    "2. **to_lowercase**: Converted text in the \"title\" and \"content\" columns of `reviews_df` to lowercase.\n",
    "3. **remove_punctuation**: Removed punctuation from the \"title\" and \"content\" columns in `reviews_df`.\n",
    "4. **remove_stopwords**: Removed stopwords from the \"title\" and \"content\" columns in `reviews_df`.\n",
    "5. **add_length_column**: Added length of the `content` column `reviews_df`."
   ]
  },
  {
   "cell_type": "markdown",
   "metadata": {},
   "source": [
    "### Exploratory Data Analysis"
   ]
  },
  {
   "cell_type": "markdown",
   "metadata": {},
   "source": [
    "Now that our data is cleaned, we can analyze podcast popularity. This includes investigating both the number of reviews received by each podcast and the potential correlation between review count and average rating."
   ]
  },
  {
   "cell_type": "code",
   "execution_count": 33,
   "metadata": {},
   "outputs": [
    {
     "ename": "ValueError",
     "evalue": "\nImage export using the \"kaleido\" engine requires the kaleido package,\nwhich can be installed using pip:\n    $ pip install -U kaleido\n",
     "output_type": "error",
     "traceback": [
      "\u001b[0;31m---------------------------------------------------------------------------\u001b[0m",
      "\u001b[0;31mValueError\u001b[0m                                Traceback (most recent call last)",
      "Cell \u001b[0;32mIn[33], line 11\u001b[0m\n\u001b[1;32m      1\u001b[0m query \u001b[38;5;241m=\u001b[39m \u001b[38;5;124m\"\"\"\u001b[39m\u001b[38;5;124mSELECT p.title, COUNT(r.content) as review_count, r.rating as avg_rating\u001b[39m\n\u001b[1;32m      2\u001b[0m \u001b[38;5;124mFROM podcasts_cleaned as p\u001b[39m\n\u001b[1;32m      3\u001b[0m \u001b[38;5;124mJOIN reviews_cleaned as r\u001b[39m\n\u001b[0;32m   (...)\u001b[0m\n\u001b[1;32m      6\u001b[0m \u001b[38;5;124mORDER BY review_count DESC\u001b[39m\n\u001b[1;32m      7\u001b[0m \u001b[38;5;124mLIMIT 5\u001b[39m\u001b[38;5;124m\"\"\"\u001b[39m\n\u001b[1;32m      9\u001b[0m podcast_review_counts \u001b[38;5;241m=\u001b[39m pd\u001b[38;5;241m.\u001b[39mread_sql_query(query, conn)\n\u001b[0;32m---> 11\u001b[0m \u001b[43mcreate_bar_chart\u001b[49m\u001b[43m(\u001b[49m\n\u001b[1;32m     12\u001b[0m \u001b[43m    \u001b[49m\u001b[43mpodcast_review_counts\u001b[49m\u001b[43m,\u001b[49m\n\u001b[1;32m     13\u001b[0m \u001b[43m    \u001b[49m\u001b[38;5;124;43m\"\u001b[39;49m\u001b[38;5;124;43mtitle\u001b[39;49m\u001b[38;5;124;43m\"\u001b[39;49m\u001b[43m,\u001b[49m\n\u001b[1;32m     14\u001b[0m \u001b[43m    \u001b[49m\u001b[38;5;124;43m\"\u001b[39;49m\u001b[38;5;124;43mreview_count\u001b[39;49m\u001b[38;5;124;43m\"\u001b[39;49m\u001b[43m,\u001b[49m\n\u001b[1;32m     15\u001b[0m \u001b[43m    \u001b[49m\u001b[38;5;124;43m\"\u001b[39;49m\u001b[38;5;124;43mTitle\u001b[39;49m\u001b[38;5;124;43m\"\u001b[39;49m\u001b[43m,\u001b[49m\n\u001b[1;32m     16\u001b[0m \u001b[43m    \u001b[49m\u001b[38;5;124;43m\"\u001b[39;49m\u001b[38;5;124;43mReview count\u001b[39;49m\u001b[38;5;124;43m\"\u001b[39;49m\u001b[43m,\u001b[49m\n\u001b[1;32m     17\u001b[0m \u001b[43m    \u001b[49m\u001b[38;5;124;43m\"\u001b[39;49m\u001b[38;5;124;43mTop 5 Podcasts by Review Count\u001b[39;49m\u001b[38;5;124;43m\"\u001b[39;49m\u001b[43m,\u001b[49m\n\u001b[1;32m     18\u001b[0m \u001b[43m    \u001b[49m\u001b[38;5;124;43m\"\u001b[39;49m\u001b[38;5;124;43m#dcb0f2\u001b[39;49m\u001b[38;5;124;43m\"\u001b[39;49m\u001b[43m,\u001b[49m\n\u001b[1;32m     19\u001b[0m \u001b[43m    \u001b[49m\u001b[43msave_path\u001b[49m\u001b[38;5;241;43m=\u001b[39;49m\u001b[38;5;124;43m\"\u001b[39;49m\u001b[38;5;124;43m../images/top_5_podcasts_by_review_count.png\u001b[39;49m\u001b[38;5;124;43m\"\u001b[39;49m\n\u001b[1;32m     20\u001b[0m \u001b[43m)\u001b[49m\n",
      "File \u001b[0;32m~/podcast-review-insights/src/podcast_review_insights/utils/podcast_utilities.py:365\u001b[0m, in \u001b[0;36mcreate_bar_chart\u001b[0;34m(df, x, y, x_name, y_name, title, color, save_path)\u001b[0m\n\u001b[1;32m    363\u001b[0m fig\u001b[38;5;241m.\u001b[39mupdate_layout(xaxis_title\u001b[38;5;241m=\u001b[39mx_name, yaxis_title\u001b[38;5;241m=\u001b[39my_name, title_x\u001b[38;5;241m=\u001b[39m\u001b[38;5;241m0.5\u001b[39m)\n\u001b[1;32m    364\u001b[0m \u001b[38;5;28;01mif\u001b[39;00m save_path:\n\u001b[0;32m--> 365\u001b[0m     \u001b[43mfig\u001b[49m\u001b[38;5;241;43m.\u001b[39;49m\u001b[43mwrite_image\u001b[49m\u001b[43m(\u001b[49m\u001b[43msave_path\u001b[49m\u001b[43m)\u001b[49m\n\u001b[1;32m    366\u001b[0m \u001b[38;5;28;01melse\u001b[39;00m:\n\u001b[1;32m    367\u001b[0m     fig\u001b[38;5;241m.\u001b[39mshow()\n",
      "File \u001b[0;32m~/podcast-review-insights/.venv/lib/python3.11/site-packages/plotly/basedatatypes.py:3827\u001b[0m, in \u001b[0;36mBaseFigure.write_image\u001b[0;34m(self, *args, **kwargs)\u001b[0m\n\u001b[1;32m   3767\u001b[0m \u001b[38;5;250m\u001b[39m\u001b[38;5;124;03m\"\"\"\u001b[39;00m\n\u001b[1;32m   3768\u001b[0m \u001b[38;5;124;03mConvert a figure to a static image and write it to a file or writeable\u001b[39;00m\n\u001b[1;32m   3769\u001b[0m \u001b[38;5;124;03mobject\u001b[39;00m\n\u001b[0;32m   (...)\u001b[0m\n\u001b[1;32m   3823\u001b[0m \u001b[38;5;124;03mNone\u001b[39;00m\n\u001b[1;32m   3824\u001b[0m \u001b[38;5;124;03m\"\"\"\u001b[39;00m\n\u001b[1;32m   3825\u001b[0m \u001b[38;5;28;01mimport\u001b[39;00m\u001b[38;5;250m \u001b[39m\u001b[38;5;21;01mplotly\u001b[39;00m\u001b[38;5;21;01m.\u001b[39;00m\u001b[38;5;21;01mio\u001b[39;00m\u001b[38;5;250m \u001b[39m\u001b[38;5;28;01mas\u001b[39;00m\u001b[38;5;250m \u001b[39m\u001b[38;5;21;01mpio\u001b[39;00m\n\u001b[0;32m-> 3827\u001b[0m \u001b[38;5;28;01mreturn\u001b[39;00m \u001b[43mpio\u001b[49m\u001b[38;5;241;43m.\u001b[39;49m\u001b[43mwrite_image\u001b[49m\u001b[43m(\u001b[49m\u001b[38;5;28;43mself\u001b[39;49m\u001b[43m,\u001b[49m\u001b[43m \u001b[49m\u001b[38;5;241;43m*\u001b[39;49m\u001b[43margs\u001b[49m\u001b[43m,\u001b[49m\u001b[43m \u001b[49m\u001b[38;5;241;43m*\u001b[39;49m\u001b[38;5;241;43m*\u001b[39;49m\u001b[43mkwargs\u001b[49m\u001b[43m)\u001b[49m\n",
      "File \u001b[0;32m~/podcast-review-insights/.venv/lib/python3.11/site-packages/plotly/io/_kaleido.py:266\u001b[0m, in \u001b[0;36mwrite_image\u001b[0;34m(fig, file, format, scale, width, height, validate, engine)\u001b[0m\n\u001b[1;32m    250\u001b[0m             \u001b[38;5;28;01mraise\u001b[39;00m \u001b[38;5;167;01mValueError\u001b[39;00m(\n\u001b[1;32m    251\u001b[0m \u001b[38;5;250m                \u001b[39m\u001b[38;5;124;03m\"\"\"\u001b[39;00m\n\u001b[1;32m    252\u001b[0m \u001b[38;5;124;03mCannot infer image type from output path '{file}'.\u001b[39;00m\n\u001b[0;32m   (...)\u001b[0m\n\u001b[1;32m    260\u001b[0m                 )\n\u001b[1;32m    261\u001b[0m             )\n\u001b[1;32m    263\u001b[0m     \u001b[38;5;66;03m# Request image\u001b[39;00m\n\u001b[1;32m    264\u001b[0m     \u001b[38;5;66;03m# -------------\u001b[39;00m\n\u001b[1;32m    265\u001b[0m     \u001b[38;5;66;03m# Do this first so we don't create a file if image conversion fails\u001b[39;00m\n\u001b[0;32m--> 266\u001b[0m     img_data \u001b[38;5;241m=\u001b[39m \u001b[43mto_image\u001b[49m\u001b[43m(\u001b[49m\n\u001b[1;32m    267\u001b[0m \u001b[43m        \u001b[49m\u001b[43mfig\u001b[49m\u001b[43m,\u001b[49m\n\u001b[1;32m    268\u001b[0m \u001b[43m        \u001b[49m\u001b[38;5;28;43mformat\u001b[39;49m\u001b[38;5;241;43m=\u001b[39;49m\u001b[38;5;28;43mformat\u001b[39;49m\u001b[43m,\u001b[49m\n\u001b[1;32m    269\u001b[0m \u001b[43m        \u001b[49m\u001b[43mscale\u001b[49m\u001b[38;5;241;43m=\u001b[39;49m\u001b[43mscale\u001b[49m\u001b[43m,\u001b[49m\n\u001b[1;32m    270\u001b[0m \u001b[43m        \u001b[49m\u001b[43mwidth\u001b[49m\u001b[38;5;241;43m=\u001b[39;49m\u001b[43mwidth\u001b[49m\u001b[43m,\u001b[49m\n\u001b[1;32m    271\u001b[0m \u001b[43m        \u001b[49m\u001b[43mheight\u001b[49m\u001b[38;5;241;43m=\u001b[39;49m\u001b[43mheight\u001b[49m\u001b[43m,\u001b[49m\n\u001b[1;32m    272\u001b[0m \u001b[43m        \u001b[49m\u001b[43mvalidate\u001b[49m\u001b[38;5;241;43m=\u001b[39;49m\u001b[43mvalidate\u001b[49m\u001b[43m,\u001b[49m\n\u001b[1;32m    273\u001b[0m \u001b[43m        \u001b[49m\u001b[43mengine\u001b[49m\u001b[38;5;241;43m=\u001b[39;49m\u001b[43mengine\u001b[49m\u001b[43m,\u001b[49m\n\u001b[1;32m    274\u001b[0m \u001b[43m    \u001b[49m\u001b[43m)\u001b[49m\n\u001b[1;32m    276\u001b[0m     \u001b[38;5;66;03m# Open file\u001b[39;00m\n\u001b[1;32m    277\u001b[0m     \u001b[38;5;66;03m# ---------\u001b[39;00m\n\u001b[1;32m    278\u001b[0m     \u001b[38;5;28;01mif\u001b[39;00m path \u001b[38;5;129;01mis\u001b[39;00m \u001b[38;5;28;01mNone\u001b[39;00m:\n\u001b[1;32m    279\u001b[0m         \u001b[38;5;66;03m# We previously failed to make sense of `file` as a pathlib object.\u001b[39;00m\n\u001b[1;32m    280\u001b[0m         \u001b[38;5;66;03m# Attempt to write to `file` as an open file descriptor.\u001b[39;00m\n",
      "File \u001b[0;32m~/podcast-review-insights/.venv/lib/python3.11/site-packages/plotly/io/_kaleido.py:132\u001b[0m, in \u001b[0;36mto_image\u001b[0;34m(fig, format, width, height, scale, validate, engine)\u001b[0m\n\u001b[1;32m    130\u001b[0m     \u001b[38;5;66;03m# Raise informative error message if Kaleido is not installed\u001b[39;00m\n\u001b[1;32m    131\u001b[0m     \u001b[38;5;28;01mif\u001b[39;00m scope \u001b[38;5;129;01mis\u001b[39;00m \u001b[38;5;28;01mNone\u001b[39;00m:\n\u001b[0;32m--> 132\u001b[0m         \u001b[38;5;28;01mraise\u001b[39;00m \u001b[38;5;167;01mValueError\u001b[39;00m(\n\u001b[1;32m    133\u001b[0m \u001b[38;5;250m            \u001b[39m\u001b[38;5;124;03m\"\"\"\u001b[39;00m\n\u001b[1;32m    134\u001b[0m \u001b[38;5;124;03mImage export using the \"kaleido\" engine requires the kaleido package,\u001b[39;00m\n\u001b[1;32m    135\u001b[0m \u001b[38;5;124;03mwhich can be installed using pip:\u001b[39;00m\n\u001b[1;32m    136\u001b[0m \u001b[38;5;124;03m    $ pip install -U kaleido\u001b[39;00m\n\u001b[1;32m    137\u001b[0m \u001b[38;5;124;03m\"\"\"\u001b[39;00m\n\u001b[1;32m    138\u001b[0m         )\n\u001b[1;32m    140\u001b[0m     \u001b[38;5;66;03m# Validate figure\u001b[39;00m\n\u001b[1;32m    141\u001b[0m     \u001b[38;5;66;03m# ---------------\u001b[39;00m\n\u001b[1;32m    142\u001b[0m     fig_dict \u001b[38;5;241m=\u001b[39m validate_coerce_fig_to_dict(fig, validate)\n",
      "\u001b[0;31mValueError\u001b[0m: \nImage export using the \"kaleido\" engine requires the kaleido package,\nwhich can be installed using pip:\n    $ pip install -U kaleido\n"
     ]
    }
   ],
   "source": [
    "query = \"\"\"SELECT p.title, COUNT(r.content) as review_count, r.rating as avg_rating\n",
    "FROM podcasts_cleaned as p\n",
    "JOIN reviews_cleaned as r\n",
    "ON p.podcast_id = r.podcast_id\n",
    "GROUP BY p.title\n",
    "ORDER BY review_count DESC\n",
    "LIMIT 5\"\"\"\n",
    "\n",
    "podcast_review_counts = pd.read_sql_query(query, conn)\n",
    "\n",
    "create_bar_chart(\n",
    "    podcast_review_counts,\n",
    "    \"title\",\n",
    "    \"review_count\",\n",
    "    \"Title\",\n",
    "    \"Review count\",\n",
    "    \"Top 5 Podcasts by Review Count\",\n",
    "    \"#dcb0f2\",\n",
    "    save_path=\"../images/top_5_podcasts_by_review_count.png\"\n",
    ")"
   ]
  },
  {
   "cell_type": "markdown",
   "metadata": {},
   "source": [
    "The **number of reviews** a podcast receives can be an indicator of its **popularity**. \n",
    "\n",
    "Among the top 5, **\"Crime Junkie\"** stands out with the most reviews, indicating its high popularity. \n",
    "\n",
    "Next, we can explore the relationship between the number of reviews and the average rating of a podcast. Specifically, we will check if there is a **correlation** between these two factors."
   ]
  },
  {
   "cell_type": "code",
   "execution_count": 19,
   "metadata": {},
   "outputs": [
    {
     "name": "stdout",
     "output_type": "stream",
     "text": [
      "The correlation between the number of reviews and the average rating is -0.08079378936936357\n"
     ]
    },
    {
     "ename": "ValueError",
     "evalue": "Mime type rendering requires nbformat>=4.2.0 but it is not installed",
     "output_type": "error",
     "traceback": [
      "\u001b[0;31m---------------------------------------------------------------------------\u001b[0m",
      "\u001b[0;31mValueError\u001b[0m                                Traceback (most recent call last)",
      "Cell \u001b[0;32mIn[19], line 20\u001b[0m\n\u001b[1;32m     14\u001b[0m correlation \u001b[38;5;241m=\u001b[39m podcast_avg_ratings[\u001b[38;5;124m\"\u001b[39m\u001b[38;5;124mnum_reviews\u001b[39m\u001b[38;5;124m\"\u001b[39m]\u001b[38;5;241m.\u001b[39mcorr(podcast_avg_ratings[\u001b[38;5;124m\"\u001b[39m\u001b[38;5;124mavg_rating\u001b[39m\u001b[38;5;124m\"\u001b[39m])\n\u001b[1;32m     16\u001b[0m \u001b[38;5;28mprint\u001b[39m(\n\u001b[1;32m     17\u001b[0m     \u001b[38;5;124mf\u001b[39m\u001b[38;5;124m\"\u001b[39m\u001b[38;5;124mThe correlation between the number of reviews and the average rating is \u001b[39m\u001b[38;5;132;01m{\u001b[39;00mcorrelation\u001b[38;5;132;01m}\u001b[39;00m\u001b[38;5;124m\"\u001b[39m\n\u001b[1;32m     18\u001b[0m )\n\u001b[0;32m---> 20\u001b[0m \u001b[43mcreate_scatter_plot\u001b[49m\u001b[43m(\u001b[49m\n\u001b[1;32m     21\u001b[0m \u001b[43m    \u001b[49m\u001b[43mpodcast_avg_ratings\u001b[49m\u001b[43m,\u001b[49m\n\u001b[1;32m     22\u001b[0m \u001b[43m    \u001b[49m\u001b[38;5;124;43m\"\u001b[39;49m\u001b[38;5;124;43mnum_reviews\u001b[39;49m\u001b[38;5;124;43m\"\u001b[39;49m\u001b[43m,\u001b[49m\n\u001b[1;32m     23\u001b[0m \u001b[43m    \u001b[49m\u001b[38;5;124;43m\"\u001b[39;49m\u001b[38;5;124;43mavg_rating\u001b[39;49m\u001b[38;5;124;43m\"\u001b[39;49m\u001b[43m,\u001b[49m\n\u001b[1;32m     24\u001b[0m \u001b[43m    \u001b[49m\u001b[38;5;124;43m\"\u001b[39;49m\u001b[38;5;124;43mNumber of reviews\u001b[39;49m\u001b[38;5;124;43m\"\u001b[39;49m\u001b[43m,\u001b[49m\n\u001b[1;32m     25\u001b[0m \u001b[43m    \u001b[49m\u001b[38;5;124;43m\"\u001b[39;49m\u001b[38;5;124;43mAverage rating\u001b[39;49m\u001b[38;5;124;43m\"\u001b[39;49m\u001b[43m,\u001b[49m\n\u001b[1;32m     26\u001b[0m \u001b[43m    \u001b[49m\u001b[38;5;124;43m\"\u001b[39;49m\u001b[38;5;124;43mNumber of Reviews vs. Average Rating\u001b[39;49m\u001b[38;5;124;43m\"\u001b[39;49m\u001b[43m,\u001b[49m\n\u001b[1;32m     27\u001b[0m \u001b[43m    \u001b[49m\u001b[38;5;124;43m\"\u001b[39;49m\u001b[38;5;124;43m#dcb0f2\u001b[39;49m\u001b[38;5;124;43m\"\u001b[39;49m\u001b[43m,\u001b[49m\n\u001b[1;32m     28\u001b[0m \u001b[43m    \u001b[49m\u001b[38;5;124;43m\"\u001b[39;49m\u001b[38;5;124;43mrgb(128, 0, 128)\u001b[39;49m\u001b[38;5;124;43m\"\u001b[39;49m\u001b[43m,\u001b[49m\n\u001b[1;32m     29\u001b[0m \u001b[43m)\u001b[49m\n",
      "File \u001b[0;32m~/podcast-review-insights/src/podcast_review_insights/utils/podcast_utilities.py:404\u001b[0m, in \u001b[0;36mcreate_scatter_plot\u001b[0;34m(df, x, y, x_name, y_name, title, color, trendline_color)\u001b[0m\n\u001b[1;32m    394\u001b[0m fig\u001b[38;5;241m.\u001b[39madd_trace(\n\u001b[1;32m    395\u001b[0m     go\u001b[38;5;241m.\u001b[39mScatter(\n\u001b[1;32m    396\u001b[0m         x\u001b[38;5;241m=\u001b[39mx_range,\n\u001b[0;32m   (...)\u001b[0m\n\u001b[1;32m    401\u001b[0m     )\n\u001b[1;32m    402\u001b[0m )\n\u001b[1;32m    403\u001b[0m fig\u001b[38;5;241m.\u001b[39mupdate_layout(xaxis_title\u001b[38;5;241m=\u001b[39mx_name, yaxis_title\u001b[38;5;241m=\u001b[39my_name, title\u001b[38;5;241m=\u001b[39mtitle, title_x\u001b[38;5;241m=\u001b[39m\u001b[38;5;241m0.5\u001b[39m)\n\u001b[0;32m--> 404\u001b[0m \u001b[43mfig\u001b[49m\u001b[38;5;241;43m.\u001b[39;49m\u001b[43mshow\u001b[49m\u001b[43m(\u001b[49m\u001b[43m)\u001b[49m\n",
      "File \u001b[0;32m~/podcast-review-insights/.venv/lib/python3.11/site-packages/plotly/basedatatypes.py:3414\u001b[0m, in \u001b[0;36mBaseFigure.show\u001b[0;34m(self, *args, **kwargs)\u001b[0m\n\u001b[1;32m   3381\u001b[0m \u001b[38;5;250m\u001b[39m\u001b[38;5;124;03m\"\"\"\u001b[39;00m\n\u001b[1;32m   3382\u001b[0m \u001b[38;5;124;03mShow a figure using either the default renderer(s) or the renderer(s)\u001b[39;00m\n\u001b[1;32m   3383\u001b[0m \u001b[38;5;124;03mspecified by the renderer argument\u001b[39;00m\n\u001b[0;32m   (...)\u001b[0m\n\u001b[1;32m   3410\u001b[0m \u001b[38;5;124;03mNone\u001b[39;00m\n\u001b[1;32m   3411\u001b[0m \u001b[38;5;124;03m\"\"\"\u001b[39;00m\n\u001b[1;32m   3412\u001b[0m \u001b[38;5;28;01mimport\u001b[39;00m\u001b[38;5;250m \u001b[39m\u001b[38;5;21;01mplotly\u001b[39;00m\u001b[38;5;21;01m.\u001b[39;00m\u001b[38;5;21;01mio\u001b[39;00m\u001b[38;5;250m \u001b[39m\u001b[38;5;28;01mas\u001b[39;00m\u001b[38;5;250m \u001b[39m\u001b[38;5;21;01mpio\u001b[39;00m\n\u001b[0;32m-> 3414\u001b[0m \u001b[38;5;28;01mreturn\u001b[39;00m \u001b[43mpio\u001b[49m\u001b[38;5;241;43m.\u001b[39;49m\u001b[43mshow\u001b[49m\u001b[43m(\u001b[49m\u001b[38;5;28;43mself\u001b[39;49m\u001b[43m,\u001b[49m\u001b[43m \u001b[49m\u001b[38;5;241;43m*\u001b[39;49m\u001b[43margs\u001b[49m\u001b[43m,\u001b[49m\u001b[43m \u001b[49m\u001b[38;5;241;43m*\u001b[39;49m\u001b[38;5;241;43m*\u001b[39;49m\u001b[43mkwargs\u001b[49m\u001b[43m)\u001b[49m\n",
      "File \u001b[0;32m~/podcast-review-insights/.venv/lib/python3.11/site-packages/plotly/io/_renderers.py:425\u001b[0m, in \u001b[0;36mshow\u001b[0;34m(fig, renderer, validate, **kwargs)\u001b[0m\n\u001b[1;32m    420\u001b[0m     \u001b[38;5;28;01mraise\u001b[39;00m \u001b[38;5;167;01mValueError\u001b[39;00m(\n\u001b[1;32m    421\u001b[0m         \u001b[38;5;124m\"\u001b[39m\u001b[38;5;124mMime type rendering requires ipython but it is not installed\u001b[39m\u001b[38;5;124m\"\u001b[39m\n\u001b[1;32m    422\u001b[0m     )\n\u001b[1;32m    424\u001b[0m \u001b[38;5;28;01mif\u001b[39;00m \u001b[38;5;129;01mnot\u001b[39;00m nbformat \u001b[38;5;129;01mor\u001b[39;00m Version(nbformat\u001b[38;5;241m.\u001b[39m__version__) \u001b[38;5;241m<\u001b[39m Version(\u001b[38;5;124m\"\u001b[39m\u001b[38;5;124m4.2.0\u001b[39m\u001b[38;5;124m\"\u001b[39m):\n\u001b[0;32m--> 425\u001b[0m     \u001b[38;5;28;01mraise\u001b[39;00m \u001b[38;5;167;01mValueError\u001b[39;00m(\n\u001b[1;32m    426\u001b[0m         \u001b[38;5;124m\"\u001b[39m\u001b[38;5;124mMime type rendering requires nbformat>=4.2.0 but it is not installed\u001b[39m\u001b[38;5;124m\"\u001b[39m\n\u001b[1;32m    427\u001b[0m     )\n\u001b[1;32m    429\u001b[0m display_jupyter_version_warnings()\n\u001b[1;32m    431\u001b[0m ipython_display\u001b[38;5;241m.\u001b[39mdisplay(bundle, raw\u001b[38;5;241m=\u001b[39m\u001b[38;5;28;01mTrue\u001b[39;00m)\n",
      "\u001b[0;31mValueError\u001b[0m: Mime type rendering requires nbformat>=4.2.0 but it is not installed"
     ]
    }
   ],
   "source": [
    "sample_size = 50000\n",
    "\n",
    "query = f\"\"\" \n",
    "SELECT r.podcast_id,\n",
    "p.title,\n",
    "COUNT(r.rating) as num_reviews,\n",
    "AVG(r.rating) as avg_rating\n",
    "FROM (SELECT * FROM reviews_cleaned ORDER BY RANDOM() LIMIT {sample_size}) as r\n",
    "JOIN podcasts_cleaned as p ON r.podcast_id = p.podcast_id\n",
    "GROUP BY r.podcast_id, p.title\"\"\"\n",
    "\n",
    "podcast_avg_ratings = pd.read_sql_query(query, conn)\n",
    "\n",
    "correlation = podcast_avg_ratings[\"num_reviews\"].corr(podcast_avg_ratings[\"avg_rating\"])\n",
    "\n",
    "print(\n",
    "    f\"The correlation between the number of reviews and the average rating is {correlation}\"\n",
    ")\n",
    "\n",
    "create_scatter_plot(\n",
    "    podcast_avg_ratings,\n",
    "    \"num_reviews\",\n",
    "    \"avg_rating\",\n",
    "    \"Number of reviews\",\n",
    "    \"Average rating\",\n",
    "    \"Number of Reviews vs. Average Rating\",\n",
    "    \"#dcb0f2\",\n",
    "    \"rgb(128, 0, 128)\",\n",
    ")"
   ]
  },
  {
   "cell_type": "markdown",
   "metadata": {},
   "source": [
    "Based on the scatter plot, there is **no clear correlation** between the number of reviews and the average rating of a podcast.\n",
    "\n",
    "So with that in mind, we can dig deeper and see if there is a correlation between the length of a review and the rating it gives. Our objective is to explore the potential association between the length of a review and the rating it receives. To address this, we propose the following hypotheses:\n",
    "\n",
    "a. **Null Hypothesis (H0)**: There is no association between the length of a review and the rating it receives.\n",
    "\n",
    "b. **Alternative Hypothesis (H1)**: There is a statistically significant association between the length of a review and the rating it receives.\n",
    "\n",
    "Given that the rating is a categorical variable, we can employ Analysis of Variance (ANOVA) if one variable is categorical (rating) and the other is continuous (review length). ANOVA is a statistical method used to determine whether there are significant differences between the means of three or more independent groups. In this context, the groups would correspond to the different rating categories, and the continuous measure would be the review length.\n",
    "\n",
    "We also compute the p-value, which provides the probability of observing our data (or data more extreme) assuming the null hypothesis is true. If the p-value is less than our chosen significance level (commonly 0.05), we reject the null hypothesis in favor of the alternative hypothesis. In simpler terms, if the p-value is less than 0.05, we conclude that there is a statistically significant association between review length and rating."
   ]
  },
  {
   "cell_type": "code",
   "execution_count": null,
   "metadata": {},
   "outputs": [],
   "source": [
    "sample_df = reviews_cleaned_df.sample(n=sample_size)\n",
    "\n",
    "lengths = sample_df[\"content_length\"]\n",
    "ratings = sample_df[\"rating\"]\n",
    "\n",
    "create_box_plot(\n",
    "    sample_df,\n",
    "    \"rating\",\n",
    "    \"content_length\",\n",
    "    \"Review Length vs Rating\",\n",
    "    \"Rating\",\n",
    "    \"Review Length\",\n",
    "    \"#dcb0f2\",\n",
    ")\n",
    "\n",
    "groups = [sample_df.loc[sample_df.rating == i, \"content_length\"] for i in range(1, 6)]\n",
    "\n",
    "F, p = stats.f_oneway(*groups)\n",
    "\n",
    "print(f\"F statistic: {F}\")\n",
    "print(f\"p-value: {p}\")"
   ]
  },
  {
   "cell_type": "markdown",
   "metadata": {},
   "source": [
    "Our analysis indicates that the p-value is significantly less than 0.05 (2.26395646829795e-154). This leads us to reject the null hypothesis (H0), which states there is no association between the length of a review and the rating it receives. This suggests a statistically significant association between these two variables.\n",
    "\n",
    "The F-statistic measures the extent to which the means of each group differ from the mean of the overall dataset. A larger F-statistic suggests greater differences between the means of each group. In our case, the F-statistic is quite large (181.384895301), indicating a significant difference in review lengths across the different rating categories.\n",
    "\n",
    "The box plot visualization displays the distribution of review lengths for each rating category. It appears that reviews with higher ratings tend to be longer, although there is considerable overlap and many outliers.\n",
    "\n",
    "In conclusion, based on our ANOVA results and the box plot visualization, there seems to be a statistically significant association between review length and rating. However, the relationship is not straightforward due to considerable overlap between the different rating categories.\n",
    "\n",
    "With these insights in mind, we can further explore the following questions:\n",
    "\n",
    "-  What is the distribution of ratings across all reviews? Are there more positive or negative reviews?\n",
    "-  Can we identify common sentiments in the review content? Are there certain words or phrases that appear more frequently in positive or negative reviews?"
   ]
  },
  {
   "cell_type": "code",
   "execution_count": null,
   "metadata": {},
   "outputs": [],
   "source": [
    "plot_histogram(\n",
    "    reviews_cleaned_df,\n",
    "    \"rating\",\n",
    "    \"Distribution of Reviews\",\n",
    "    \"Rating\",\n",
    "    \"Percentage\",\n",
    "    \"#dcb0f2\",\n",
    ")"
   ]
  },
  {
   "cell_type": "markdown",
   "metadata": {},
   "source": [
    "The histogram reveals that the **majority of reviews (86.66%) awarded a rating of 5**, indicating a high level of satisfaction. \n",
    "\n",
    "Ratings of 4, 3, 2, and 1 were considerably less common, each constituting between **2.22% and 5.56% of reviews**. \n",
    "\n",
    "This data shows that there are **significantly more positive reviews than negative ones**. \n",
    "\n",
    "The distribution of ratings, coupled with the predominance of positive reviews, suggests an **overall high level of listener satisfaction**.\n",
    "\n",
    "Moving forward, we can delve deeper into the data by performing a sentiment analysis to identify common sentiments in the review content. The following questions could guide our exploration:\n",
    "\n",
    "- What is the distribution of ratings across all reviews? Are there more positive or negative reviews?\n",
    "- Can we identify common sentiments in the review content? Are there certain words or phrases that appear more frequently in positive or negative reviews?"
   ]
  },
  {
   "cell_type": "code",
   "execution_count": null,
   "metadata": {},
   "outputs": [],
   "source": [
    "common_words_dict = perform_sentiment_and_frequency_analysis(\n",
    "    reviews_cleaned_df, \"content\"\n",
    ")"
   ]
  },
  {
   "cell_type": "markdown",
   "metadata": {},
   "source": [
    "In **Negative Reviews**, the most frequent words include `podcast`, `like`, `listen`, `show`, `one`, `it’s`, `listening`, `episode`, `get`, and `i’m`. These words, while not inherently negative, often appear in contexts expressing dissatisfaction (e.g., “I don’t get why…”).\n",
    "\n",
    "In contrast, **Positive Reviews** often include words like `podcast`, `love`, `great`, `listen`, `like`, `show`, `listening`, `one`, `really`, and `episode`. Words like `love` and `great` are typically associated with positive sentiments, suggesting enjoyment or appreciation of the podcast.\n",
    "\n",
    "When comparing **Words More Frequent in Positive or Negative Reviews**:\n",
    "- `Love` and `great` appear significantly more often in positive reviews, suggesting a positive sentiment.\n",
    "- Conversely, `i’m` and `get` are common in negative reviews but not in positive ones, suggesting they are often used to express negative sentiments.\n",
    "\n",
    "Having analyzed the review content, let's transition to exploring **Category Analysis**:\n",
    "   - What are the most common categories for podcasts? \n",
    "   - Are there certain categories that have more podcasts than others?"
   ]
  },
  {
   "cell_type": "code",
   "execution_count": null,
   "metadata": {},
   "outputs": [],
   "source": [
    "query = \"\"\"\n",
    "SELECT \n",
    "    c.category, \n",
    "    COUNT(DISTINCT c.podcast_id) as num_podcasts\n",
    "FROM \n",
    "    categories as c\n",
    "JOIN\n",
    "    podcasts_cleaned as p\n",
    "ON\n",
    "    c.podcast_id = p.podcast_id\n",
    "GROUP BY \n",
    "    c.category\n",
    "ORDER BY \n",
    "    num_podcasts DESC\n",
    "LIMIT 10;\n",
    "\"\"\"\n",
    "most_common_categories = pd.read_sql_query(query, conn)\n",
    "\n",
    "create_bar_chart(\n",
    "    most_common_categories,\n",
    "    \"category\",\n",
    "    \"num_podcasts\",\n",
    "    \"Category\",\n",
    "    \"Number of Podcasts\",\n",
    "    \"Top 10 Most Common Podcast Categories\",\n",
    "    \"#dcb0f2\",\n",
    ")"
   ]
  },
  {
   "cell_type": "markdown",
   "metadata": {},
   "source": [
    "The most common categories for podcasts, as revealed by the graph, are as follows:\n",
    "\n",
    "1. **'Society-Culture'** is the most popular category, with over **16,772 podcasts**.\n",
    "2. The **'Education'**, **'Religion Spirituality'**,**'Comedy'** and **'Business'** categories follow next, each hosting around **10,000 podcasts**.\n",
    "\n",
    "The remaining categories, namely **'Arts'**, **'Sports'**, **'Christianity'**, **'Health-Fitness'**,**'TV-Film'**, have fewer podcasts. \n",
    "\n",
    "Therefore, it is clear that certain categories, specifically 'Society-Culture', 'Education', and 'Religion Spirituality', have more podcasts than others.\n",
    "\n",
    "Next, we can investigate how the distribution of ratings varies across the top 10 categories in terms of the number of reviews. This will help us understand whether certain categories tend to receive higher or lower ratings. Additionally, we can determine if the list of these podcasts remains the same when sorted by the number of reviews."
   ]
  },
  {
   "cell_type": "code",
   "execution_count": null,
   "metadata": {},
   "outputs": [],
   "source": [
    "query = \"\"\"\n",
    "SELECT \n",
    "    c.category, \n",
    "    r.rating, \n",
    "    COUNT(*) as count\n",
    "FROM \n",
    "    reviews_cleaned as r\n",
    "JOIN \n",
    "    categories as c ON r.podcast_id = c.podcast_id\n",
    "WHERE \n",
    "    c.category IN (\n",
    "        SELECT category \n",
    "        FROM categories \n",
    "        GROUP BY category \n",
    "        ORDER BY COUNT(*) DESC \n",
    "        LIMIT 10\n",
    "    )\n",
    "GROUP BY \n",
    "    c.category, \n",
    "    r.rating;\n",
    "\"\"\"\n",
    "categories_distribution_by_rating = pd.read_sql_query(query, conn)\n",
    "\n",
    "color_list = [\"#ffa600\", \"#ff8ca3\", \"#ff9061\", \"#ff9cd7\", \"#dcb0f2\"]\n",
    "\n",
    "create_horizontal_bar_chart(\n",
    "    categories_distribution_by_rating,\n",
    "    \"count\",\n",
    "    \"category\",\n",
    "    \"Number of Reviews\",\n",
    "    \"Category\",\n",
    "    \"Distribution of Ratings Across Top 10 Categories\",\n",
    "    color_list,\n",
    ")"
   ]
  },
  {
   "cell_type": "markdown",
   "metadata": {},
   "source": [
    "We can see that categories are same in both charts, in terms of podcasts and in terms of number of reviews, furthermore in our **Category Analysis**, we found that the `society-culture` category has received a significant number of reviews, with most being positive (rating 5). This suggests that podcasts in this category are generally well-received. Categories like `tv-film`, `sports`, and `religion-spirituality` also have a substantial number of reviews. However, these categories show a more varied distribution of ratings, indicating mixed audience reception. Lower ratings (1 and 2) are less frequent across all categories, suggesting that listeners are less likely to leave negative reviews or that fewer podcasts receive low ratings.\n",
    "\n",
    "Having understood the distribution of ratings across different categories, it is also important to delve deeper into the content of the reviews themselves. This leads us to our **Trends Over Time**. We aim to answer the following questions: \n",
    "\n",
    "   - How have the number of reviews and average ratings changed over time?\n",
    "   \n",
    "Let’s explore this further."
   ]
  },
  {
   "cell_type": "code",
   "execution_count": null,
   "metadata": {},
   "outputs": [],
   "source": [
    "query = \"\"\"\n",
    "    SELECT \n",
    "        DATE(created_at) as date, \n",
    "        COUNT(*) as num_reviews, \n",
    "        AVG(rating) as avg_rating\n",
    "    FROM \n",
    "        reviews_cleaned\n",
    "    GROUP BY \n",
    "        date\n",
    "    ORDER BY \n",
    "        date;\n",
    "    \"\"\"\n",
    "reviews_over_time = pd.read_sql_query(query, conn)\n",
    "\n",
    "color_list = [\"#ff9cd7\", \"#ffa600\", \"#dcb0f2\"]\n",
    "\n",
    "create_xyz_scatter_plot(\n",
    "    reviews_over_time,\n",
    "    \"date\",\n",
    "    \"num_reviews\",\n",
    "    \"avg_rating\",\n",
    "    \"Date\",\n",
    "    \"Number of Reviews\",\n",
    "    \"Number of Reviews Over Time\",\n",
    "    color_list,\n",
    ")"
   ]
  },
  {
   "cell_type": "markdown",
   "metadata": {},
   "source": [
    "- **Number of Reviews**: The number of reviews appears to have increased over time, with a noticeable peak around June 2020. After June 2020, there seems to be a decline in the number of reviews. This suggests that the volume of reviews has fluctuated over the years, but the general trend is an increase in the number of reviews over time.\n",
    "\n",
    "- **Average Rating**: The color gradient of the plot points indicates the average rating. Darker shades represent higher ratings. It appears that the average rating has also increased over time, with darker shades becoming more prevalent in later years. However, after the peak in 2018, the average rating seems to have declined slightly, as indicated by the lighter shades.\n",
    "\n",
    "Now, let's move to a more in-depth analysis and answer the following question: \n",
    "\n",
    "- Are there certain times of the year when more reviews are written or when ratings are particularly high or low?"
   ]
  },
  {
   "cell_type": "code",
   "execution_count": null,
   "metadata": {},
   "outputs": [],
   "source": [
    "query = \"\"\"\n",
    "SELECT \n",
    "    strftime('%m', created_at) as month, \n",
    "    COUNT(*) as num_reviews, \n",
    "    AVG(rating) as avg_rating\n",
    "FROM \n",
    "    reviews_cleaned\n",
    "GROUP BY \n",
    "    month\n",
    "ORDER BY \n",
    "    month;\n",
    "\"\"\"\n",
    "monthly_reviews = pd.read_sql_query(query, conn)\n",
    "\n",
    "plot_monthly_reviews_and_ratings(\n",
    "    monthly_reviews,\n",
    "    \"month\",\n",
    "    \"num_reviews\",\n",
    "    \"avg_rating\",\n",
    "    \"Month\",\n",
    "    \"Number of Reviews\",\n",
    "    \"Average Rating\",\n",
    "    \"#dcb0f2\",\n",
    "    \"rgb(128, 0, 128)\",\n",
    ")"
   ]
  },
  {
   "cell_type": "markdown",
   "metadata": {},
   "source": [
    "**Number of Reviews**: The number of reviews appears to fluctuate throughout the year. The highest number of reviews is written in January, with 164,907 reviews, and the lowest is in December, with 136,436 reviews. This could suggest that more users are active and writing reviews at the beginning of the year, and activity decreases towards the end of the year.\n",
    "\n",
    "**Average Rating**: The average rating also varies slightly from month to month. The highest average rating occurs in February, with a rating of 4.658797, and the lowest is in December, with a rating of 4.609648. This could indicate that users tend to give slightly higher ratings in February compared to other months, although the difference is quite small and may not be significant.\n",
    "\n",
    "Now, let's move on to the next question:\n",
    "\n",
    "- Are there authors who review more frequently than others? "
   ]
  },
  {
   "cell_type": "code",
   "execution_count": null,
   "metadata": {},
   "outputs": [],
   "source": [
    "query = \"\"\"SELECT author_id, COUNT(*) as num_reviews\n",
    "FROM reviews_cleaned\n",
    "GROUP BY author_id\n",
    "ORDER BY num_reviews DESC\n",
    "LIMIT 5\"\"\"\n",
    "\n",
    "active_authors = pd.read_sql_query(query, conn)\n",
    "\n",
    "color_dict = {\n",
    "    \"D3307ADEFFA285C\": \"#dcb0f2\",\n",
    "    \"96A3F0358E7808D\": \"#ff9cd7\",\n",
    "    \"7F9EA8B1A449BFC\": \"#ff8ca3\",\n",
    "    \"4B25015E4D7A1DA\": \"#ff9061\",\n",
    "    \"791F376ACA3C08D\": \"#ffa600\",\n",
    "}\n",
    "\n",
    "\n",
    "create_bar_chart(\n",
    "    active_authors,\n",
    "    \"author_id\",\n",
    "    \"num_reviews\",\n",
    "    \"Author ID\",\n",
    "    \"Number of Reviews\",\n",
    "    \"Top 5 Most Active Authors\",\n",
    "    color_dict,\n",
    ")"
   ]
  },
  {
   "cell_type": "markdown",
   "metadata": {},
   "source": [
    "It appears that there are indeed authors who review more frequently than others. \n",
    "\n",
    "The author with the ID `d3307adeffa285c` has written the most reviews, with a total of 612 reviews. The author with the ID `791f376aca3c08d` has written the second most reviews, with a total of 495 reviews. The other authors listed have written fewer reviews.\n",
    "\n",
    "Furthermore, we can check if they tend to give certain types of ratings?"
   ]
  },
  {
   "cell_type": "code",
   "execution_count": null,
   "metadata": {},
   "outputs": [],
   "source": [
    "query = \"\"\"SELECT author_id, AVG(rating) as avg_rating\n",
    "FROM reviews_cleaned\n",
    "WHERE author_id IN (SELECT author_id FROM reviews_cleaned GROUP BY author_id ORDER BY COUNT(*) DESC LIMIT 5)\n",
    "GROUP BY author_id\n",
    "ORDER BY avg_rating DESC;\"\"\"\n",
    "\n",
    "author_ratings = pd.read_sql_query(query, conn)\n",
    "\n",
    "create_bar_chart(\n",
    "    author_ratings,\n",
    "    \"author_id\",\n",
    "    \"avg_rating\",\n",
    "    \"Author ID\",\n",
    "    \"Average Rating\",\n",
    "    \"Average Rating of Top 5 Authors\",\n",
    "    color_dict,\n",
    ")"
   ]
  },
  {
   "cell_type": "markdown",
   "metadata": {},
   "source": [
    "1. **Four authors consistently give perfect scores**: Authors with IDs `D3307ADEFFA285C`, `96A3F0358E7808D`, `7F9EA8B1A449BFC`, and `4B25015E4D7A1DA` all have an average rating of 5. This suggests that they tend to give the highest possible rating in their reviews.\n",
    "\n",
    "2. **One author has a slightly lower average rating**: The author with ID `791F376ACA3C08D` has an average rating of approximately 4.04. While this is slightly lower than the perfect score of 5, it's still a high rating, indicating that this author also tends to give high ratings, though not always the highest.\n",
    "\n",
    "3. **Overall high ratings given**: All five authors give high average ratings, suggesting that they generally have a positive view of the podcasts they review.\n",
    "\n",
    "Lastly, we can check if they tend to review certain categories."
   ]
  },
  {
   "cell_type": "code",
   "execution_count": null,
   "metadata": {},
   "outputs": [],
   "source": [
    "query = \"\"\"\n",
    "WITH TopAuthorsReviews AS (\n",
    "    SELECT r.author_id, c.category, COUNT(*) as num_reviews\n",
    "    FROM reviews_cleaned as r\n",
    "    JOIN categories as c ON r.podcast_id = c.podcast_id\n",
    "    WHERE r.author_id IN (SELECT author_id FROM reviews_cleaned GROUP BY author_id ORDER BY COUNT(*) DESC LIMIT 5)\n",
    "    GROUP BY r.author_id, c.category\n",
    ")\n",
    "\n",
    "SELECT category, SUM(num_reviews) as total_reviews\n",
    "FROM TopAuthorsReviews\n",
    "GROUP BY category\n",
    "ORDER BY total_reviews DESC\n",
    "LIMIT 10;\n",
    "\"\"\"\n",
    "\n",
    "active_authors_categories = pd.read_sql_query(query, conn)\n",
    "\n",
    "create_bar_chart(\n",
    "    active_authors_categories,\n",
    "    \"category\",\n",
    "    \"total_reviews\",\n",
    "    \"Category\",\n",
    "    \"Total Reviews\",\n",
    "    \"Top 10 Categories Reviewed by Top 5 Authors\",\n",
    "    \"#DCB0F2\",\n",
    ")"
   ]
  },
  {
   "cell_type": "markdown",
   "metadata": {},
   "source": [
    "1. **Business is the most reviewed category**: The top 5 authors tend to review podcasts in the 'business' category more often than any other category.\n",
    "2. **Comedy and Education are also popular**: These categories have the second and third highest number of reviews respectively, indicating their popularity among the top 5 authors.\n",
    "3. **Variety in categories**: The top 5 authors review podcasts across a wide variety of categories, including 'society-culture', 'health-fitness', 'religion-spirituality', 'business-entrepreneurship', 'Christianity', 'business-careers', and 'tv-film'.\n",
    "4. **Differences in review counts**: There is a significant difference in the number of reviews between the top 2 categories ('business', 'comedy') and the rest, suggesting a strong preference for these categories among the top 5 authors."
   ]
  },
  {
   "cell_type": "markdown",
   "metadata": {},
   "source": [
    "# Key Findings\n",
    "\n",
    "## Data Cleaning:\n",
    "- Non-English entries were removed, ensuring data focus.\n",
    "- Text was transformed to lowercase for consistent analysis.\n",
    "- Unnecessary punctuation and stop words were eliminated for clarity.\n",
    "- A \"length\" column was added to the reviews for further investigation.\n",
    "\n",
    "## Podcast Popularity:\n",
    "- Review count served as a popularity indicator, with \"Crime Junkie\" leading the pack.\n",
    "- Intriguingly, no clear correlation emerged between review count and average rating.\n",
    "\n",
    "## Review Length and Rating:\n",
    "- An ANOVA test was conducted to investigate the association between the length of a review and the rating it receives.\n",
    "- The null hypothesis (H0) stated there was no association between the length of a review and the rating it receives, while the alternative hypothesis (H1) proposed an association.\n",
    "- The p-value obtained was significantly less than 0.05, leading to the rejection of the null hypothesis. This suggests a statistically significant association between review length and rating.\n",
    "- The box plot visualization indicated that reviews with higher ratings tend to be longer, although there was considerable overlap and many outliers.\n",
    "\n",
    "## Distribution of Ratings:\n",
    "- The majority (86.66%) of reviews reflected high satisfaction with a rating of 5.\n",
    "- Ratings of 4, 3, 2, and 1 were significantly less frequent.\n",
    "\n",
    "## Sentiment Analysis:\n",
    "- In **Negative Reviews**, the most frequent words include `podcast`, `like`, `listen`, `show`, `one`, `it’s`, `listening`, `episode`, `get`, and `i’m`. These words, while not inherently negative, often appear in contexts expressing dissatisfaction.\n",
    "- In contrast, **Positive Reviews** often include words like `podcast`, `love`, `great`, `listen`, `like`, `show`, `listening`, `one`, `really`, and `episode`. Words like `love` and `great` are typically associated with positive sentiments, suggesting enjoyment or appreciation of the podcast.\n",
    "\n",
    "## Category Analysis:\n",
    "- \"Society-Culture\" topped the charts with the most reviews, mostly positive.\n",
    "- Categories like \"TV-Film\" and \"Sports\" displayed a broader range of ratings.\n",
    "\n",
    "## Trends Over Time:\n",
    "- The number of reviews increased over time, peaking in June 2020.\n",
    "- The average rating followed a similar trajectory, peaking in 2018 before a slight decline.\n",
    "- Interestingly, monthly variations showed:\n",
    "  - Highest number of reviews: January\n",
    "  - Lowest number of reviews: December\n",
    "  - Highest average rating: February\n",
    "  - Lowest average rating: December\n",
    "\n",
    "## Author Analysis:\n",
    "- Review frequency varied significantly among authors, with some reviewing more frequently than others.\n",
    "- Rating behavior showcased interesting patterns:\n",
    "  - Four authors consistently awarded perfect scores (5).\n",
    "  - One author provided slightly lower ratings (average of 4.04).\n",
    "- All top 5 authors exhibited high average ratings, indicating a generally positive perspective.\n",
    "- Review category preferences existed, with \"Business\" being the most reviewed by the top 5 authors, followed by \"Comedy\" and \"Education.\" Notably, they reviewed podcasts across diverse categories."
   ]
  },
  {
   "cell_type": "markdown",
   "metadata": {},
   "source": [
    "# Suggestions for Improvement\n",
    "\n",
    "## Author Analysis:\n",
    "\n",
    "**Understanding high-frequency reviewers:** I could question why some reviewers leave many reviews. I could conduct qualitative analysis of their reviews or even survey them to understand their motivations and preferences.\n",
    "\n",
    "## Further Exploration:\n",
    "\n",
    "**Text analysis with NLP:** I could extract deeper meaning from review text using NLP techniques. I could analyze sentiment for individual reviews, identify recurring themes or topics, or even categorize reviews based on their content.\n",
    "\n",
    "**Predictive modeling:** I could consider building models to predict podcast popularity or user ratings based on various factors. This could be valuable for both podcast creators and listeners.\n",
    "\n",
    "## Asking the right questions:\n",
    "\n",
    "Beyond the above, I could strive to go beyond basic descriptive statistics and dive deeper to uncover hidden patterns and relationships. Here are some key questions I could consider:\n",
    "\n",
    "- What factors influence podcast popularity?\n",
    "- What characteristics define highly-rated podcasts?\n",
    "- How do user sentiments and preferences differ across podcast categories?\n",
    "- Can I use the data to predict user ratings or identify emerging trends?"
   ]
  }
 ],
 "metadata": {
  "kernelspec": {
   "display_name": ".venv",
   "language": "python",
   "name": "python3"
  },
  "language_info": {
   "codemirror_mode": {
    "name": "ipython",
    "version": 3
   },
   "file_extension": ".py",
   "mimetype": "text/x-python",
   "name": "python",
   "nbconvert_exporter": "python",
   "pygments_lexer": "ipython3",
   "version": "3.11.6"
  }
 },
 "nbformat": 4,
 "nbformat_minor": 4
}
